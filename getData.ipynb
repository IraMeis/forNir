{
  "nbformat": 4,
  "nbformat_minor": 0,
  "metadata": {
    "colab": {
      "name": "getData.ipynb",
      "provenance": [],
      "collapsed_sections": []
    },
    "kernelspec": {
      "name": "python3",
      "display_name": "Python 3"
    },
    "language_info": {
      "name": "python"
    },
    "accelerator": "GPU"
  },
  "cells": [
    {
      "cell_type": "code",
      "metadata": {
        "id": "ZKSMc4XIaIWi"
      },
      "source": [
        "from google.colab import drive\n",
        "drive.mount('/content/gdrive')"
      ],
      "execution_count": null,
      "outputs": []
    },
    {
      "cell_type": "code",
      "metadata": {
        "id": "9Ed3dXQ9UqGR"
      },
      "source": [
        "from sklearn.model_selection import train_test_split\n",
        "import os\n",
        "import xml.etree.ElementTree as ET\n",
        "from shutil import copyfile\n",
        "import argparse\n",
        "from pathlib import Path\n",
        "import random"
      ],
      "execution_count": 2,
      "outputs": []
    },
    {
      "cell_type": "code",
      "metadata": {
        "id": "eeXk_esOTiDT"
      },
      "source": [
        "%pwd"
      ],
      "execution_count": null,
      "outputs": []
    },
    {
      "cell_type": "code",
      "metadata": {
        "id": "w7OqrqraTznv"
      },
      "source": [
        "# train\n",
        "!wget https://mycityreport.s3-ap-northeast-1.amazonaws.com/02_RoadDamageDataset/public_data/IEEE_bigdata_RDD2020/train.tar.gz\n",
        "\n",
        "!tar -xzvf train.tar.gz\n",
        "!rm train.tar.gz"
      ],
      "execution_count": null,
      "outputs": []
    },
    {
      "cell_type": "code",
      "metadata": {
        "id": "xTDExR8hTz1e"
      },
      "source": [
        "%cd train"
      ],
      "execution_count": null,
      "outputs": []
    },
    {
      "cell_type": "code",
      "metadata": {
        "id": "6JDtml7rUqNj"
      },
      "source": [
        "os.getcwd()\n",
        "countries = [\"Czech\", \"India\", \"Japan\"]\n",
        "labels = [\"D00\", \"D10\", \"D20\", \"D40\"]\n",
        "\n",
        "for country in countries:\n",
        "    annoFiles = os.listdir(os.path.join(os.getcwd(), country+\"/annotations/xmls/\"))\n",
        "    jpgFiles = os.listdir(os.path.join(os.getcwd(), country+\"/images/\"))\n",
        "    \n",
        "    newCountry = \"new_\"+country\n",
        "    Path(newCountry+\"/Annotations\").mkdir(parents=True, exist_ok=True)\n",
        "    Path(newCountry+\"/JPEGImages\").mkdir(parents=True, exist_ok=True)\n",
        "    \n",
        "    for annoFile in annoFiles:\n",
        "        tree = ET.parse(os.path.join(os.getcwd()+\"/\"+country+\"/annotations/xmls/\", annoFile))\n",
        "        root = tree.getroot()\n",
        "        for obj in root.findall(\"object\"):\n",
        "            a = obj.find(\"name\").text\n",
        "            if a not in labels:\n",
        "                root.remove(obj)\n",
        "            \n",
        "        if len(root.findall(\"object\")) > 0:\n",
        "            tree.write(newCountry+\"/Annotations/\"+annoFile)\n",
        "            copyfile(os.path.join(country+\"/images/\", annoFile.split(\".\")[0])+\".jpg\", newCountry+\"/JPEGImages/\"+annoFile.split(\".\")[0]+\".jpg\")\n",
        "        else:\n",
        "            continue"
      ],
      "execution_count": 6,
      "outputs": []
    },
    {
      "cell_type": "code",
      "metadata": {
        "id": "R7aTCq6HU76j"
      },
      "source": [
        "Path(\"new_train/Annotations\").mkdir(parents=True, exist_ok=True)\n",
        "Path(\"new_train/JPEGImages\").mkdir(parents=True, exist_ok=True)\n",
        "\n",
        "!cp new_Czech/Annotations/*.xml new_train/Annotations/\n",
        "!cp new_India/Annotations/*.xml new_train/Annotations/\n",
        "!cp new_Japan/Annotations/*.xml new_train/Annotations/\n",
        "\n",
        "!cp new_Czech/JPEGImages/*.jpg new_train/JPEGImages/\n",
        "!cp new_India/JPEGImages/*.jpg new_train/JPEGImages/\n",
        "!cp new_Japan/JPEGImages/*.jpg new_train/JPEGImages/"
      ],
      "execution_count": 7,
      "outputs": []
    },
    {
      "cell_type": "code",
      "metadata": {
        "id": "JXh7BTAeVBNN",
        "colab": {
          "base_uri": "https://localhost:8080/"
        },
        "outputId": "a9e33e38-2898-413e-f28b-d1add327c5d5"
      },
      "source": [
        "%cd .."
      ],
      "execution_count": 8,
      "outputs": [
        {
          "output_type": "stream",
          "name": "stdout",
          "text": [
            "/content\n"
          ]
        }
      ]
    },
    {
      "cell_type": "code",
      "metadata": {
        "id": "YKsi5VMJVEvj"
      },
      "source": [
        "annoFiles = os.listdir(os.path.join(os.getcwd(), \"train/new_train/Annotations/\"))\n",
        "yoloFile = open(\"./xml2yolo_damage.txt\", \"w\")\n",
        "for i in range(len(annoFiles)):\n",
        "    yoloFile.writelines(os.getcwd() + \"/train/new_train/Annotations/\" + annoFiles[i] + \"\\n\")\n",
        "\n",
        "yoloFile.close()"
      ],
      "execution_count": 9,
      "outputs": []
    },
    {
      "cell_type": "code",
      "metadata": {
        "id": "oQmSlH2PVE0p"
      },
      "source": [
        "!cp gdrive/MyDrive/colabFiles/damage.names /content\n",
        "!cp gdrive/MyDrive/colabFiles/xml2yolo.py /content\n",
        "!python xml2yolo.py --input-file xml2yolo_damage.txt"
      ],
      "execution_count": null,
      "outputs": []
    },
    {
      "cell_type": "code",
      "metadata": {
        "id": "0xM-crsNYWEs"
      },
      "source": [
        "Path(\"road/data\").mkdir(parents=True, exist_ok=True)\n",
        "\n",
        "!cp train/new_train/JPEGImages/*.jpg road/data\n",
        "!cp train/new_train/labels/*.txt road/data"
      ],
      "execution_count": 11,
      "outputs": []
    },
    {
      "cell_type": "code",
      "metadata": {
        "id": "Yx3T6vc0ZEVj",
        "colab": {
          "base_uri": "https://localhost:8080/"
        },
        "outputId": "9486d468-88a4-4507-bb09-7b1b3699fd68"
      },
      "source": [
        "!ls"
      ],
      "execution_count": 12,
      "outputs": [
        {
          "output_type": "stream",
          "name": "stdout",
          "text": [
            "damage.names  road\t   train\t\txml2yolo.py\n",
            "gdrive\t      sample_data  xml2yolo_damage.txt\n"
          ]
        }
      ]
    },
    {
      "cell_type": "code",
      "metadata": {
        "id": "5zHZqwdTj1IH",
        "colab": {
          "base_uri": "https://localhost:8080/"
        },
        "outputId": "a47fe422-fb1b-4616-b067-f6075613823a"
      },
      "source": [
        "drivefl0 = os.listdir(os.path.join(os.getcwd(), \"train/new_train/Annotations\"))\n",
        "print(len(drivefl0))"
      ],
      "execution_count": 14,
      "outputs": [
        {
          "output_type": "stream",
          "name": "stdout",
          "text": [
            "12195\n"
          ]
        }
      ]
    },
    {
      "cell_type": "code",
      "source": [
        "drivefl0 = os.listdir(os.path.join(os.getcwd(), \"road/data\"))\n",
        "print(len(drivefl0))"
      ],
      "metadata": {
        "colab": {
          "base_uri": "https://localhost:8080/"
        },
        "id": "ibJLg-6Mjg6b",
        "outputId": "ffab1a0a-ebaa-40b7-825e-d93890c959ec"
      },
      "execution_count": 15,
      "outputs": [
        {
          "output_type": "stream",
          "name": "stdout",
          "text": [
            "24390\n"
          ]
        }
      ]
    },
    {
      "cell_type": "code",
      "metadata": {
        "id": "-mH8s-3m8VGW",
        "colab": {
          "base_uri": "https://localhost:8080/"
        },
        "outputId": "292e90f6-3067-4b29-c3fd-a364348be991"
      },
      "source": [
        "%cd train"
      ],
      "execution_count": 24,
      "outputs": [
        {
          "output_type": "stream",
          "name": "stdout",
          "text": [
            "/content/train\n"
          ]
        }
      ]
    },
    {
      "cell_type": "code",
      "source": [
        "new_Czech_annoFiles = os.listdir(os.path.join(os.getcwd(), \"new_Czech/JPEGImages/\"))\n",
        "print(len(new_Czech_annoFiles))\n",
        "\n",
        "new_India_annoFiles = os.listdir(os.path.join(os.getcwd(), \"new_India/JPEGImages/\"))\n",
        "print(len(new_India_annoFiles))\n",
        "\n",
        "new_Japan_annoFiles = os.listdir(os.path.join(os.getcwd(), \"new_Japan/JPEGImages/\"))\n",
        "print(len(new_Japan_annoFiles))\n",
        "\n",
        "Czech_train, Czech_valid = train_test_split(new_Czech_annoFiles, test_size=0.2, random_state=42)\n",
        "print(len(Czech_train), len(Czech_valid))\n",
        "\n",
        "India_train, India_valid = train_test_split(new_India_annoFiles, test_size=0.2, random_state=42)\n",
        "print(len(India_train), len(India_valid))\n",
        "\n",
        "Japan_train, Japan_valid = train_test_split(new_Japan_annoFiles, test_size=0.2, random_state=42)\n",
        "print(len(Japan_train), len(Japan_valid))"
      ],
      "metadata": {
        "colab": {
          "base_uri": "https://localhost:8080/"
        },
        "id": "uvm0lgWX5XCx",
        "outputId": "90104432-f651-419c-85f9-01f5100159dd"
      },
      "execution_count": 25,
      "outputs": [
        {
          "output_type": "stream",
          "name": "stdout",
          "text": [
            "1072\n",
            "3223\n",
            "7900\n",
            "857 215\n",
            "2578 645\n",
            "6320 1580\n"
          ]
        }
      ]
    },
    {
      "cell_type": "code",
      "source": [
        "strpath ='/data/'\n",
        "\n",
        "# single source training dataset\n",
        "\n",
        "file1 = open(\"../road/Cz8.txt\", \"w\")\n",
        "for i in range(len(Czech_train)):\n",
        "    file1.writelines(strpath + Czech_train[i].split(\".\")[0] + '.jpg' + \"\\n\")\n",
        "\n",
        "file1.close()\n",
        "\n",
        "file2 = open(\"../road/Cz2val.txt\", \"w\")\n",
        "for i in range(len(Czech_valid)):\n",
        "    file2.writelines(strpath + Czech_valid[i].split(\".\")[0] + '.jpg' + \"\\n\")\n",
        "\n",
        "file2.close()\n",
        "\n",
        "file1 = open(\"../road/In8.txt\", \"w\")\n",
        "for i in range(len(India_train)):\n",
        "    file1.writelines(strpath + India_train[i].split(\".\")[0] + '.jpg' + \"\\n\")\n",
        "\n",
        "file1.close()\n",
        "\n",
        "file2 = open(\"../road/In2val.txt\", \"w\")\n",
        "for i in range(len(India_valid)):\n",
        "    file2.writelines(strpath + India_valid[i].split(\".\")[0] + '.jpg' + \"\\n\")\n",
        "\n",
        "file2.close()\n",
        "\n",
        "file1 = open(\"../road/Ja8.txt\", \"w\")\n",
        "for i in range(len(Japan_train)):\n",
        "    file1.writelines(strpath + Japan_train[i].split(\".\")[0] + '.jpg' + \"\\n\")\n",
        "\n",
        "file1.close()\n",
        "\n",
        "file2 = open(\"../road/Ja2val.txt\", \"w\")\n",
        "for i in range(len(Japan_valid)):\n",
        "    file2.writelines(strpath + Japan_valid[i].split(\".\")[0] + '.jpg' + \"\\n\")\n",
        "\n",
        "file2.close()"
      ],
      "metadata": {
        "id": "RzMfw5Pe5Zfc"
      },
      "execution_count": 19,
      "outputs": []
    },
    {
      "cell_type": "code",
      "source": [
        "# mix source training dataset\n",
        "\n",
        "CzInJa_train = new_Czech_annoFiles + new_India_annoFiles + Japan_train\n",
        "random.shuffle(CzInJa_train)\n",
        "\n",
        "CzInJa_valid = Japan_valid\n",
        "random.shuffle(CzInJa_valid)\n",
        "\n",
        "file1 = open(\"../road/CzInJa.txt\", \"w\")\n",
        "for i in range(len(CzInJa_train)):\n",
        "    file1.writelines(strpath + CzInJa_train[i].split(\".\")[0] + '.jpg' + \"\\n\")\n",
        "\n",
        "file1.close()\n",
        "\n",
        "file2 = open(\"../road/CzInJaval.txt\", \"w\")\n",
        "for i in range(len(CzInJa_valid)):\n",
        "    file2.writelines(strpath + CzInJa_valid[i].split(\".\")[0] + '.jpg' + \"\\n\")\n",
        "\n",
        "file2.close()\n",
        "\n",
        "japanHalfLength = len(new_Japan_annoFiles)/2\n",
        "\n",
        "JaCz_train = new_Japan_annoFiles[:int(japanHalfLength)] + Czech_train\n",
        "random.shuffle(JaCz_train)\n",
        "\n",
        "file1 = open(\"../road/Ja5Cz8.txt\", \"w\")\n",
        "for i in range(len(JaCz_train)):\n",
        "    file1.writelines(strpath + JaCz_train[i].split(\".\")[0] + '.jpg' + \"\\n\")\n",
        "\n",
        "file1.close()\n",
        "\n",
        "file2 = open(\"../road/Ja5Cz8val.txt\", \"w\")\n",
        "for i in range(len(Czech_valid)):\n",
        "    file2.writelines(strpath + Czech_valid[i].split(\".\")[0] + '.jpg' + \"\\n\")\n",
        "\n",
        "file2.close()\n",
        "\n",
        "JaIn_train = new_Japan_annoFiles[:int(japanHalfLength)] + India_train\n",
        "random.shuffle(JaIn_train)\n",
        "\n",
        "file1 = open(\"../road/Ja5In8.txt\", \"w\")\n",
        "for i in range(len(JaIn_train)):\n",
        "    file1.writelines(strpath + JaIn_train[i].split(\".\")[0] + '.jpg' + \"\\n\")\n",
        "\n",
        "file1.close()\n",
        "\n",
        "file2 = open(\"../road/Ja5In8val.txt\", \"w\")\n",
        "for i in range(len(India_valid)):\n",
        "    file2.writelines(strpath+ India_valid[i].split(\".\")[0] + '.jpg' + \"\\n\")\n",
        "\n",
        "file2.close()"
      ],
      "metadata": {
        "id": "m0kzAFVL5ZoI"
      },
      "execution_count": 20,
      "outputs": []
    },
    {
      "cell_type": "code",
      "source": [
        "%cd .."
      ],
      "metadata": {
        "id": "izlyWrR98y0H"
      },
      "execution_count": null,
      "outputs": []
    },
    {
      "cell_type": "code",
      "source": [
        "!zip -r /content/road.zip /content/road"
      ],
      "metadata": {
        "id": "mst6A4dHiscb"
      },
      "execution_count": null,
      "outputs": []
    }
  ]
}